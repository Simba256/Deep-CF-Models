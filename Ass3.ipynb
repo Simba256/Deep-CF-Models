{
  "nbformat": 4,
  "nbformat_minor": 0,
  "metadata": {
    "colab": {
      "provenance": []
    },
    "kernelspec": {
      "name": "python3",
      "display_name": "Python 3"
    },
    "language_info": {
      "name": "python"
    }
  },
  "cells": [
    {
      "cell_type": "code",
      "execution_count": 1,
      "metadata": {
        "id": "I-D718YWCMrj"
      },
      "outputs": [],
      "source": [
        "import os\n",
        "import zipfile\n",
        "import pandas as pd\n",
        "import numpy as np\n",
        "import matplotlib.pyplot as plt\n",
        "\n",
        "from sklearn.model_selection import train_test_split\n",
        "from sklearn.preprocessing import LabelEncoder\n",
        "from sklearn.metrics import mean_squared_error, mean_absolute_error\n",
        "\n",
        "import tensorflow as tf\n",
        "from tensorflow.keras import layers, models\n",
        "\n"
      ]
    },
    {
      "cell_type": "code",
      "source": [
        "# --- Data Loading and Preprocessing ---\n",
        "def load_and_prepare_data(path=\"ratings.csv\"):\n",
        "    df = pd.read_csv(path)\n",
        "    user_encoder = LabelEncoder()\n",
        "    item_encoder = LabelEncoder()\n",
        "\n",
        "    df[\"user\"] = user_encoder.fit_transform(df[\"UserID\"])\n",
        "    df[\"item\"] = item_encoder.fit_transform(df[\"MovieID\"])\n",
        "    df = df[[\"user\", \"item\", \"Rating\"]]\n",
        "\n",
        "    return df, df[\"user\"].nunique(), df[\"item\"].nunique()\n",
        "\n"
      ],
      "metadata": {
        "id": "Q_Beb2-YCXVk"
      },
      "execution_count": 9,
      "outputs": []
    },
    {
      "cell_type": "code",
      "source": [
        "# --- Model Builders ---\n",
        "def build_cnn_model(num_users, num_items, embedding_dim=50):\n",
        "    user_input = layers.Input(shape=(1,))\n",
        "    item_input = layers.Input(shape=(1,))\n",
        "\n",
        "    user_embedding = layers.Embedding(num_users, embedding_dim)(user_input)\n",
        "    item_embedding = layers.Embedding(num_items, embedding_dim)(item_input)\n",
        "\n",
        "    merged = layers.Concatenate(axis=1)([user_embedding, item_embedding])\n",
        "    conv = layers.Conv1D(32, kernel_size=1, activation='relu')(merged)\n",
        "    flat = layers.Flatten()(conv)\n",
        "    dense = layers.Dense(64, activation='relu')(flat)\n",
        "    output = layers.Dense(1)(dense)\n",
        "\n",
        "    model = models.Model(inputs=[user_input, item_input], outputs=output)\n",
        "    model.compile(optimizer='adam', loss='mse')\n",
        "    return model\n",
        "\n"
      ],
      "metadata": {
        "id": "NCDk1wgwCbfB"
      },
      "execution_count": 3,
      "outputs": []
    },
    {
      "cell_type": "code",
      "source": [
        "def build_rnn_model(num_users, num_items, embedding_dim=50):\n",
        "    user_input = layers.Input(shape=(1,))\n",
        "    item_input = layers.Input(shape=(1,))\n",
        "\n",
        "    user_embedding = layers.Embedding(num_users, embedding_dim)(user_input)\n",
        "    item_embedding = layers.Embedding(num_items, embedding_dim)(item_input)\n",
        "\n",
        "    sequence = layers.Concatenate(axis=1)([user_embedding, item_embedding])\n",
        "    rnn = layers.SimpleRNN(64)(sequence)\n",
        "    dense = layers.Dense(64, activation='relu')(rnn)\n",
        "    output = layers.Dense(1)(dense)\n",
        "\n",
        "    model = models.Model(inputs=[user_input, item_input], outputs=output)\n",
        "    model.compile(optimizer='adam', loss='mse')\n",
        "    return model\n",
        "\n"
      ],
      "metadata": {
        "id": "Dils2jp7CetW"
      },
      "execution_count": 4,
      "outputs": []
    },
    {
      "cell_type": "code",
      "source": [
        "# --- Evaluation Function ---\n",
        "def evaluate(true, predicted):\n",
        "    rmse = np.sqrt(mean_squared_error(true, predicted))\n",
        "    mae = mean_absolute_error(true, predicted)\n",
        "    return rmse, mae\n",
        "\n"
      ],
      "metadata": {
        "id": "jhhLdCv_ChED"
      },
      "execution_count": 5,
      "outputs": []
    },
    {
      "cell_type": "code",
      "source": [
        "# --- Main Script Execution ---\n",
        "if __name__ == \"__main__\":\n",
        "    # Load and preprocess data\n",
        "    ratings, num_users, num_items = load_and_prepare_data()\n",
        "    train_data, test_data = train_test_split(ratings, test_size=0.2, random_state=42)\n",
        "\n",
        "    # Train and evaluate CNN model\n",
        "    cnn_model = build_cnn_model(num_users, num_items)\n",
        "    cnn_model.fit([train_data.user, train_data.item], train_data.Rating, epochs=5, batch_size=256, verbose=2)\n",
        "    cnn_preds = cnn_model.predict([test_data.user, test_data.item])\n",
        "    cnn_rmse, cnn_mae = evaluate(test_data.Rating, cnn_preds)\n",
        "\n",
        "    # Train and evaluate RNN model\n",
        "    rnn_model = build_rnn_model(num_users, num_items)\n",
        "    rnn_model.fit([train_data.user, train_data.item], train_data.Rating, epochs=5, batch_size=256, verbose=2)\n",
        "    rnn_preds = rnn_model.predict([test_data.user, test_data.item])\n",
        "    rnn_rmse, rnn_mae = evaluate(test_data.Rating, rnn_preds)\n",
        "\n",
        "    # Print results\n",
        "    print(f\"CNN RMSE: {cnn_rmse:.4f}, MAE: {cnn_mae:.4f}\")\n",
        "    print(f\"RNN RMSE: {rnn_rmse:.4f}, MAE: {rnn_mae:.4f}\")\n",
        "\n",
        "    # Plotting Results\n",
        "    models_list = ['CNN', 'RNN']\n",
        "    rmse_values = [cnn_rmse, rnn_rmse]\n",
        "    mae_values = [cnn_mae, rnn_mae]\n",
        "\n",
        "    x = np.arange(len(models_list))\n",
        "    bar_width = 0.35\n",
        "\n",
        "    plt.figure(figsize=(8, 5))\n",
        "    plt.bar(x, rmse_values, width=bar_width, label='RMSE', color='skyblue')\n",
        "    plt.bar(x + bar_width, mae_values, width=bar_width, label='MAE', color='salmon')\n",
        "\n",
        "    plt.xlabel('Model')\n",
        "    plt.ylabel('Score')\n",
        "    plt.title('CNN vs RNN on MovieLens - RMSE and MAE')\n",
        "    plt.xticks(x + bar_width / 2, models_list)\n",
        "    plt.legend()\n",
        "    plt.grid(axis='y', linestyle='--', alpha=0.7)\n",
        "    plt.tight_layout()\n",
        "    plt.show()\n"
      ],
      "metadata": {
        "colab": {
          "base_uri": "https://localhost:8080/",
          "height": 945
        },
        "id": "gC13wNmxCjk5",
        "outputId": "e8918552-6689-4a68-91bb-8fef92d37f77"
      },
      "execution_count": 8,
      "outputs": [
        {
          "output_type": "stream",
          "name": "stdout",
          "text": [
            "Epoch 1/5\n",
            "316/316 - 5s - 15ms/step - loss: 1.9374\n",
            "Epoch 2/5\n",
            "316/316 - 2s - 8ms/step - loss: 0.7193\n",
            "Epoch 3/5\n",
            "316/316 - 3s - 8ms/step - loss: 0.6881\n",
            "Epoch 4/5\n",
            "316/316 - 2s - 6ms/step - loss: 0.6744\n",
            "Epoch 5/5\n",
            "316/316 - 3s - 11ms/step - loss: 0.6648\n",
            "\u001b[1m631/631\u001b[0m \u001b[32m━━━━━━━━━━━━━━━━━━━━\u001b[0m\u001b[37m\u001b[0m \u001b[1m1s\u001b[0m 2ms/step\n",
            "Epoch 1/5\n",
            "316/316 - 5s - 15ms/step - loss: 1.7345\n",
            "Epoch 2/5\n",
            "316/316 - 2s - 7ms/step - loss: 0.7198\n",
            "Epoch 3/5\n",
            "316/316 - 3s - 10ms/step - loss: 0.6862\n",
            "Epoch 4/5\n",
            "316/316 - 5s - 14ms/step - loss: 0.6708\n",
            "Epoch 5/5\n",
            "316/316 - 3s - 8ms/step - loss: 0.6610\n",
            "\u001b[1m631/631\u001b[0m \u001b[32m━━━━━━━━━━━━━━━━━━━━\u001b[0m\u001b[37m\u001b[0m \u001b[1m1s\u001b[0m 2ms/step\n",
            "CNN RMSE: 0.8857, MAE: 0.6812\n",
            "RNN RMSE: 0.8839, MAE: 0.6753\n"
          ]
        },
        {
          "output_type": "display_data",
          "data": {
            "text/plain": [
              "<Figure size 800x500 with 1 Axes>"
            ],
            "image/png": "[encoded data removed]"
          },
          "metadata": {}
        }
      ]
    },
    {
      "cell_type": "code",
      "source": [],
      "metadata": {
        "id": "vp5o7Q9-CkPr"
      },
      "execution_count": null,
      "outputs": []
    }
  ]
}